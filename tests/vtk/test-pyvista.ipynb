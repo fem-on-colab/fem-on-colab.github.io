{
 "cells": [
  {
   "cell_type": "code",
   "execution_count": null,
   "id": "b2337a46",
   "metadata": {},
   "outputs": [],
   "source": [
    "try:\n",
    "    import google.colab  # noqa: F401\n",
    "except ImportError:\n",
    "    import pyvista\n",
    "else:\n",
    "    !wget \"https://fem-on-colab.github.io/releases/vtk-install.sh\" -O \"/tmp/vtk-install.sh\" && bash \"/tmp/vtk-install.sh\"\n",
    "    import pyvista"
   ]
  },
  {
   "cell_type": "code",
   "execution_count": null,
   "id": "1e3c6682",
   "metadata": {},
   "outputs": [],
   "source": [
    "import pyvista\n",
    "import pyvista.examples"
   ]
  },
  {
   "cell_type": "code",
   "execution_count": null,
   "id": "3ddf43e4",
   "metadata": {},
   "outputs": [],
   "source": [
    "mesh = pyvista.examples.download_st_helens().warp_by_scalar()"
   ]
  },
  {
   "cell_type": "code",
   "execution_count": null,
   "id": "b2645c44",
   "metadata": {},
   "outputs": [],
   "source": [
    "static_plotter = pyvista.Plotter(notebook=True)\n",
    "static_plotter.add_mesh(mesh)\n",
    "static_plotter.add_axes()\n",
    "static_plotter.show(jupyter_backend=\"static\", return_viewer=True)"
   ]
  },
  {
   "cell_type": "code",
   "execution_count": null,
   "id": "0ef0aa53-e198-4934-aaf2-6d9c011cc033",
   "metadata": {},
   "outputs": [],
   "source": [
    "html_plotter = pyvista.Plotter(notebook=True)\n",
    "html_plotter.add_mesh(mesh)\n",
    "html_plotter.add_axes()\n",
    "html_plotter.show(jupyter_backend=\"html\", return_viewer=True)"
   ]
  }
 ],
 "metadata": {
  "kernelspec": {
   "display_name": "Python 3 (ipykernel)",
   "language": "python",
   "name": "python3"
  },
  "language_info": {
   "codemirror_mode": {
    "name": "ipython"
   },
   "file_extension": ".py",
   "mimetype": "text/x-python",
   "name": "python",
   "nbconvert_exporter": "python"
  }
 },
 "nbformat": 4,
 "nbformat_minor": 5
}
