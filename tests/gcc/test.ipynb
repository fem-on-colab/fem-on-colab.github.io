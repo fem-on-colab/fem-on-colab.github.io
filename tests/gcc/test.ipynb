{
 "cells": [
  {
   "cell_type": "code",
   "execution_count": null,
   "id": "mediterranean-century",
   "metadata": {},
   "outputs": [],
   "source": [
    "try:\n",
    "    import google.colab  # noqa: F401\n",
    "except ImportError:\n",
    "    pass\n",
    "else:\n",
    "    !wget \"https://fem-on-colab.github.io/releases/gcc-install.sh\" -O \"/tmp/gcc-install.sh\" && bash \"/tmp/gcc-install.sh\""
   ]
  },
  {
   "cell_type": "code",
   "execution_count": null,
   "id": "proud-proceeding",
   "metadata": {},
   "outputs": [],
   "source": [
    "expected_version = \"\"\n",
    "output = \"\"\n",
    "error = \"\""
   ]
  },
  {
   "cell_type": "code",
   "execution_count": null,
   "id": "1431a759-6da7-4697-b085-5d3f790004f2",
   "metadata": {},
   "outputs": [],
   "source": [
    "%%bash --out expected_version --err error --no-raise-error\n",
    "gcc-expected-version | tr '\\n' ' '"
   ]
  },
  {
   "cell_type": "code",
   "execution_count": null,
   "id": "492d25b5-e26a-49a5-8cc6-58dcf13060ff",
   "metadata": {},
   "outputs": [],
   "source": [
    "assert len(expected_version) > 0, \"Empty or unexpected version: \" + expected_version\n",
    "assert error == \"\", \"Non-empty error: \" + error"
   ]
  },
  {
   "cell_type": "code",
   "execution_count": null,
   "id": "ahead-benefit",
   "metadata": {},
   "outputs": [],
   "source": [
    "%%bash --out output --err error --no-raise-error\n",
    "gcc --version | tr '\\n' ' '"
   ]
  },
  {
   "cell_type": "code",
   "execution_count": null,
   "id": "christian-clause",
   "metadata": {},
   "outputs": [],
   "source": [
    "assert expected_version in output, \"Unexpected output: \" + output\n",
    "assert error == \"\", \"Non-empty error: \" + error"
   ]
  }
 ],
 "metadata": {
  "kernelspec": {
   "display_name": "Python 3 (ipykernel)",
   "language": "python",
   "name": "python3"
  },
  "language_info": {
   "codemirror_mode": {
    "name": "ipython"
   },
   "file_extension": ".py",
   "mimetype": "text/x-python",
   "name": "python",
   "nbconvert_exporter": "python"
  }
 },
 "nbformat": 4,
 "nbformat_minor": 5
}
